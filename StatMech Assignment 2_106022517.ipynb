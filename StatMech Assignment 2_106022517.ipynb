{
 "cells": [
  {
   "cell_type": "markdown",
   "metadata": {},
   "source": [
    "# StatMech Assignment 2 106022517\n"
   ]
  },
  {
   "cell_type": "code",
   "execution_count": 27,
   "metadata": {},
   "outputs": [],
   "source": [
    "import random\n",
    "import time\n",
    "import numpy as np\n",
    "import statistics as st\n",
    "import itertools\n",
    "from   collections import Counter\n",
    "import matplotlib.pyplot as plt"
   ]
  },
  {
   "cell_type": "markdown",
   "metadata": {},
   "source": [
    "# Problem 1: Generalized dice\n",
    "\n",
    "1.Modify your computer program to simulate the roll of N dice. Your program should let the dice have any number of sides, but the same number of sides for each die. The number of dice and the number of sides should be read in at the start of the program. One trial will consist of N rolls. Your program should calculate the sum of the N numbers that occur during each trial. It should also compare the results for the mean, variance, and standard deviation of that sum with the theoretical predictions.\n"
   ]
  },
  {
   "cell_type": "code",
   "execution_count": 28,
   "metadata": {},
   "outputs": [
    {
     "name": "stdout",
     "output_type": "stream",
     "text": [
      "Enter Number of Dice:5\n",
      "Enter Number of Side:4\n",
      "Enter Number of Trials:100\n",
      "==============================================================\n",
      "Number of Dice =  5\n",
      "Number of Sides =  4\n",
      "Number of trials =  100\n",
      "mean(theory) =  12.5\n",
      "variance(theory) =  31.25\n",
      "standard deviation(theory) =  5.5901699437494745\n",
      "\n",
      "mean = 12 \n",
      "error compare with theory: -4.0 %\n",
      "\n",
      "variance = 6 \n",
      "error compare with theory: -80.80000000000001 %\n",
      "\n",
      "standard deviation = 2.449489742783178 \n",
      "error compare with theory: -56.18219539958672 %\n",
      "\n",
      "Elapsed time = 0.0030148342666507233\n"
     ]
    }
   ],
   "source": [
    "num=input(\"Enter Number of Dice:\")\n",
    "s=input(\"Enter Number of Side:\")\n",
    "t=input(\"Enter Number of Trials:\")\n",
    "num=int(num)\n",
    "s=int(s)\n",
    "t=int(t)\n",
    "\n",
    "def NDiceS(trials, sides,N):\n",
    "    tic=time.clock()\n",
    "    print(\"==============================================================\")\n",
    "    print(\"Number of Dice = \",N)\n",
    "    print(\"Number of Sides = \", sides)\n",
    "    print(\"Number of trials = \", trials)\n",
    "    \n",
    "    \n",
    "    \n",
    "    #theoritical model\n",
    "    \n",
    "    #calculate one dice first\n",
    "    mean_th_onedice=(s + 1)/2\n",
    "    mean_th=mean_th_onedice*num\n",
    "    variance_th_onedice=(s - 1)*(s + 1)/12\n",
    "    variance_th=variance_th_onedice*(num**2)\n",
    "    stdev_th=variance_th**0.5\n",
    "    \n",
    "    print(\"mean(theory) = \",mean_th)\n",
    "    print(\"variance(theory) = \",variance_th)\n",
    "    print(\"standard deviation(theory) = \",stdev_th)\n",
    " \n",
    "\n",
    "    # stimulation\n",
    "       \n",
    "    datarecord=[]\n",
    "\n",
    "    j = 0\n",
    "    r = []\n",
    "    while j < trials :\n",
    "        \n",
    "        n=N\n",
    "        r=np.random.randint(1,sides+1,N);\n",
    "        rs=sum(r)\n",
    "        datarecord.append(rs)\n",
    "        j=j+1\n",
    "        \n",
    "    #stumulation result\n",
    "    mean_st=st.mean(datarecord)\n",
    "    variance_st=st.variance(datarecord)\n",
    "    stdev_st=st.stdev(datarecord)\n",
    "    \n",
    "    error_mean=(mean_st-mean_th)/mean_th*100\n",
    "    error_var=(variance_st-variance_th)/variance_th*100\n",
    "    error_stdev=(stdev_st-stdev_th)/stdev_th*100\n",
    "    \n",
    "    print(\"\\nmean =\", mean_st,\"\\nerror compare with theory:\", error_mean,\"%\\n\")\n",
    "    print(\"variance =\", variance_st,\"\\nerror compare with theory:\", error_var,\"%\\n\")\n",
    "    print(\"standard deviation =\", stdev_st,\"\\nerror compare with theory:\", error_stdev,\"%\\n\")\n",
    "       \n",
    "    toc=time.clock()\n",
    "    print(\"Elapsed time =\", toc-tic)\n",
    "    return Counter(datarecord)\n",
    "\n",
    "\n",
    "    \n",
    "\n",
    "result=NDiceS(t,s,num)"
   ]
  },
  {
   "cell_type": "markdown",
   "metadata": {},
   "source": [
    "2.Test the calculations that we have carried out for the mean, variance, and standard deviation of the sum of the numbers on the dice. In each case, obtain data for a couple of different run-lengths. Investigate the cases listed below. (a) Two dice, each with ten sides. (b) Ten dice, each with twenty sides."
   ]
  },
  {
   "cell_type": "markdown",
   "metadata": {},
   "source": [
    "(a) Two dice, each with ten sides."
   ]
  },
  {
   "cell_type": "code",
   "execution_count": 74,
   "metadata": {},
   "outputs": [
    {
     "name": "stdout",
     "output_type": "stream",
     "text": [
      "Two dice, each with ten sides.\n",
      "==============================================================\n",
      "Number of Dice =  2\n",
      "Number of Sides =  10\n",
      "Number of trials =  10\n",
      "mean(theory) =  11.0\n",
      "variance(theory) =  33.0\n",
      "standard deviation(theory) =  5.744562646538029\n",
      "\n",
      "mean = 12 \n",
      "error compare with theory: 9.090909090909092 %\n",
      "\n",
      "variance = 11 \n",
      "error compare with theory: -66.66666666666666 %\n",
      "\n",
      "standard deviation = 3.3166247903554 \n",
      "error compare with theory: -42.26497308103742 %\n",
      "\n",
      "Elapsed time = 0.0015737007233838085\n",
      "==============================================================\n",
      "Number of Dice =  2\n",
      "Number of Sides =  10\n",
      "Number of trials =  100\n",
      "mean(theory) =  11.0\n",
      "variance(theory) =  33.0\n",
      "standard deviation(theory) =  5.744562646538029\n",
      "\n",
      "mean = 10 \n",
      "error compare with theory: -9.090909090909092 %\n",
      "\n",
      "variance = 15 \n",
      "error compare with theory: -54.54545454545454 %\n",
      "\n",
      "standard deviation = 3.872983346207417 \n",
      "error compare with theory: -32.58001375367579 %\n",
      "\n",
      "Elapsed time = 0.0021514370491786394\n",
      "==============================================================\n",
      "Number of Dice =  2\n",
      "Number of Sides =  10\n",
      "Number of trials =  1000\n",
      "mean(theory) =  11.0\n",
      "variance(theory) =  33.0\n",
      "standard deviation(theory) =  5.744562646538029\n",
      "\n",
      "mean = 10 \n",
      "error compare with theory: -9.090909090909092 %\n",
      "\n",
      "variance = 16 \n",
      "error compare with theory: -51.515151515151516 %\n",
      "\n",
      "standard deviation = 4.0 \n",
      "error compare with theory: -30.368937617720864 %\n",
      "\n",
      "Elapsed time = 0.015074598974024411\n",
      "==============================================================\n",
      "Number of Dice =  2\n",
      "Number of Sides =  10\n",
      "Number of trials =  10000\n",
      "mean(theory) =  11.0\n",
      "variance(theory) =  33.0\n",
      "standard deviation(theory) =  5.744562646538029\n",
      "\n",
      "mean = 11 \n",
      "error compare with theory: 0.0 %\n",
      "\n",
      "variance = 16 \n",
      "error compare with theory: -51.515151515151516 %\n",
      "\n",
      "standard deviation = 4.0 \n",
      "error compare with theory: -30.368937617720864 %\n",
      "\n",
      "Elapsed time = 0.14801382290534093\n",
      "------------------------------------\n"
     ]
    },
    {
     "data": {
      "text/plain": [
       "<matplotlib.legend.Legend at 0x1dd2a18af28>"
      ]
     },
     "execution_count": 74,
     "metadata": {},
     "output_type": "execute_result"
    },
    {
     "data": {
      "image/png": "[encoded data removed]",
      "text/plain": [
       "<matplotlib.figure.Figure at 0x1dd2a01aac8>"
      ]
     },
     "metadata": {},
     "output_type": "display_data"
    }
   ],
   "source": [
    "print('Two dice, each with ten sides.')\n",
    "s=10\n",
    "num=2\n",
    "\n",
    "t1=10\n",
    "t2=100\n",
    "t3=1000\n",
    "t4=10000\n",
    "\n",
    "result1=NDiceS(t1,s,num)\n",
    "result2=NDiceS(t2,s,num)\n",
    "result3=NDiceS(t3,s,num)\n",
    "result4=NDiceS(t4,s,num)\n",
    "\n",
    "print(\"------------------------------------\")\n",
    "X1,Y1 = zip(*result1.items())\n",
    "Y1   = [y1/t1 for y1 in Y1]\n",
    "plt.scatter(X1,Y1,label=\"tirias = {:d}\".format(t1))\n",
    "\n",
    "X2,Y2 = zip(*result2.items())\n",
    "Y2   = [y2/t2 for y2 in Y2]\n",
    "plt.scatter(X2,Y2,label=\"tirias = {:d}\".format(t2))\n",
    "\n",
    "X3,Y3 = zip(*result3.items())\n",
    "Y3   = [y3/t3 for y3 in Y3]\n",
    "plt.scatter(X3,Y3,label=\"tirias = {:d}\".format(t3))\n",
    "\n",
    "X4,Y4 = zip(*result4.items())\n",
    "Y4   = [y4/t4 for y4 in Y4]\n",
    "plt.scatter(X4,Y4,label=\"tirias = {:d}\".format(t4))\n",
    "\n",
    "plt.xlabel(\"sum of dice\")\n",
    "plt.ylabel(\"probability\")\n",
    "plt.legend(loc=1)\n"
   ]
  },
  {
   "cell_type": "markdown",
   "metadata": {},
   "source": [
    "(b) Ten dice, each with twenty sides."
   ]
  },
  {
   "cell_type": "code",
   "execution_count": 78,
   "metadata": {},
   "outputs": [
    {
     "name": "stdout",
     "output_type": "stream",
     "text": [
      "Ten dice, each with twenty sides.\n",
      "==============================================================\n",
      "Number of Dice =  10\n",
      "Number of Sides =  20\n",
      "Number of trials =  100\n",
      "mean(theory) =  105.0\n",
      "variance(theory) =  3325.0\n",
      "standard deviation(theory) =  57.66281297335398\n",
      "\n",
      "mean = 103 \n",
      "error compare with theory: -1.9047619047619049 %\n",
      "\n",
      "variance = 347 \n",
      "error compare with theory: -89.56390977443608 %\n",
      "\n",
      "standard deviation = 18.627936010197157 \n",
      "error compare with theory: -67.69506194780136 %\n",
      "\n",
      "Elapsed time = 0.002708646843530005\n",
      "==============================================================\n",
      "Number of Dice =  10\n",
      "Number of Sides =  20\n",
      "Number of trials =  1000\n",
      "mean(theory) =  105.0\n",
      "variance(theory) =  3325.0\n",
      "standard deviation(theory) =  57.66281297335398\n",
      "\n",
      "mean = 104 \n",
      "error compare with theory: -0.9523809523809524 %\n",
      "\n",
      "variance = 322 \n",
      "error compare with theory: -90.31578947368422 %\n",
      "\n",
      "standard deviation = 17.944358444926362 \n",
      "error compare with theory: -68.88053579138003 %\n",
      "\n",
      "Elapsed time = 0.01773321239670622\n",
      "==============================================================\n",
      "Number of Dice =  10\n",
      "Number of Sides =  20\n",
      "Number of trials =  10000\n",
      "mean(theory) =  105.0\n",
      "variance(theory) =  3325.0\n",
      "standard deviation(theory) =  57.66281297335398\n",
      "\n",
      "mean = 105 \n",
      "error compare with theory: 0.0 %\n",
      "\n",
      "variance = 338 \n",
      "error compare with theory: -89.8345864661654 %\n",
      "\n",
      "standard deviation = 18.384776310850235 \n",
      "error compare with theory: -68.11675434678179 %\n",
      "\n",
      "Elapsed time = 0.15488850031033508\n",
      "==============================================================\n",
      "Number of Dice =  10\n",
      "Number of Sides =  20\n",
      "Number of trials =  100000\n",
      "mean(theory) =  105.0\n",
      "variance(theory) =  3325.0\n",
      "standard deviation(theory) =  57.66281297335398\n"
     ]
    },
    {
     "name": "stderr",
     "output_type": "stream",
     "text": [
      "C:\\ProgramData\\Anaconda3\\lib\\fractions.py:412: RuntimeWarning: overflow encountered in long_scalars\n",
      "  return Fraction(a.numerator * db - b.numerator * da,\n",
      "C:\\ProgramData\\Anaconda3\\lib\\fractions.py:426: RuntimeWarning: overflow encountered in long_scalars\n",
      "  a.denominator * b.numerator)\n"
     ]
    },
    {
     "name": "stdout",
     "output_type": "stream",
     "text": [
      "\n",
      "mean = 104 \n",
      "error compare with theory: -0.9523809523809524 %\n",
      "\n",
      "variance = 0 \n",
      "error compare with theory: -100.0 %\n",
      "\n",
      "standard deviation = 0.0 \n",
      "error compare with theory: -100.0 %\n",
      "\n",
      "Elapsed time = 1.6546334153972566\n",
      "------------------------------------\n"
     ]
    },
    {
     "data": {
      "text/plain": [
       "<matplotlib.legend.Legend at 0x1dd2a4ddf28>"
      ]
     },
     "execution_count": 78,
     "metadata": {},
     "output_type": "execute_result"
    },
    {
     "data": {
      "image/png": "[encoded data removed]",
      "text/plain": [
       "<matplotlib.figure.Figure at 0x1dd2a44e2e8>"
      ]
     },
     "metadata": {},
     "output_type": "display_data"
    }
   ],
   "source": [
    "print('Ten dice, each with twenty sides.')\n",
    "s=20\n",
    "num=10\n",
    "\n",
    "t1=100\n",
    "t2=1000\n",
    "t3=10000\n",
    "t4=100000\n",
    "\n",
    "result1=NDiceS(t1,s,num)\n",
    "result2=NDiceS(t2,s,num)\n",
    "result3=NDiceS(t3,s,num)\n",
    "result4=NDiceS(t4,s,num)\n",
    "\n",
    "print(\"------------------------------------\")\n",
    "X1,Y1 = zip(*result1.items())\n",
    "Y1   = [y1/t1 for y1 in Y1]\n",
    "plt.scatter(X1,Y1,label=\"tirias = {:d}\".format(t1))\n",
    "\n",
    "X2,Y2 = zip(*result2.items())\n",
    "Y2   = [y2/t2 for y2 in Y2]\n",
    "plt.scatter(X2,Y2,label=\"tirias = {:d}\".format(t2))\n",
    "\n",
    "X3,Y3 = zip(*result3.items())\n",
    "Y3   = [y3/t3 for y3 in Y3]\n",
    "plt.scatter(X3,Y3,label=\"tirias = {:d}\".format(t3))\n",
    "\n",
    "X4,Y4 = zip(*result4.items())\n",
    "Y4   = [y4/t4 for y4 in Y4]\n",
    "plt.scatter(X4,Y4,label=\"tirias = {:d}\".format(t4))\n",
    "\n",
    "plt.xlabel(\"sum of dice\")\n",
    "plt.ylabel(\"probability\")\n",
    "plt.legend(loc=1)\n"
   ]
  },
  {
   "cell_type": "markdown",
   "metadata": {},
   "source": [
    "3.Use your program to investigate the width of the distribution for various numbers of two-sided dice. Does the width of the distribution increase or decrease with increasing numbers of dice? Do your results agree with the theory?"
   ]
  },
  {
   "cell_type": "code",
   "execution_count": 81,
   "metadata": {
    "scrolled": false
   },
   "outputs": [
    {
     "name": "stdout",
     "output_type": "stream",
     "text": [
      "Ten dice, each with twenty sides.\n",
      "==============================================================\n",
      "Number of Dice =  2\n",
      "Number of Sides =  2\n",
      "Number of trials =  10000\n",
      "mean(theory) =  15.0\n",
      "variance(theory) =  25.0\n",
      "standard deviation(theory) =  5.0\n",
      "\n",
      "mean = 2 \n",
      "error compare with theory: -86.66666666666667 %\n",
      "\n",
      "variance = 0 \n",
      "error compare with theory: -100.0 %\n",
      "\n",
      "standard deviation = 0.0 \n",
      "error compare with theory: -100.0 %\n",
      "\n",
      "Elapsed time = 0.1439889122520981\n",
      "==============================================================\n",
      "Number of Dice =  5\n",
      "Number of Sides =  2\n",
      "Number of trials =  10000\n",
      "mean(theory) =  15.0\n",
      "variance(theory) =  25.0\n",
      "standard deviation(theory) =  5.0\n",
      "\n",
      "mean = 7 \n",
      "error compare with theory: -53.333333333333336 %\n",
      "\n",
      "variance = 1 \n",
      "error compare with theory: -96.0 %\n",
      "\n",
      "standard deviation = 1.0 \n",
      "error compare with theory: -80.0 %\n",
      "\n",
      "Elapsed time = 0.14770592493732693\n",
      "==============================================================\n",
      "Number of Dice =  10\n",
      "Number of Sides =  2\n",
      "Number of trials =  10000\n",
      "mean(theory) =  15.0\n",
      "variance(theory) =  25.0\n",
      "standard deviation(theory) =  5.0\n",
      "\n",
      "mean = 15 \n",
      "error compare with theory: 0.0 %\n",
      "\n",
      "variance = 2 \n",
      "error compare with theory: -92.0 %\n",
      "\n",
      "standard deviation = 1.4142135623730951 \n",
      "error compare with theory: -71.7157287525381 %\n",
      "\n",
      "Elapsed time = 0.15226751885711565\n",
      "==============================================================\n",
      "Number of Dice =  20\n",
      "Number of Sides =  2\n",
      "Number of trials =  10000\n",
      "mean(theory) =  15.0\n",
      "variance(theory) =  25.0\n",
      "standard deviation(theory) =  5.0\n",
      "\n",
      "mean = 30 \n",
      "error compare with theory: 100.0 %\n",
      "\n",
      "variance = 4 \n",
      "error compare with theory: -84.0 %\n",
      "\n",
      "standard deviation = 2.0 \n",
      "error compare with theory: -60.0 %\n",
      "\n",
      "Elapsed time = 0.16317095564227202\n",
      "==============================================================\n",
      "Number of Dice =  40\n",
      "Number of Sides =  2\n",
      "Number of trials =  10000\n",
      "mean(theory) =  15.0\n",
      "variance(theory) =  25.0\n",
      "standard deviation(theory) =  5.0\n",
      "\n",
      "mean = 59 \n",
      "error compare with theory: 293.3333333333333 %\n",
      "\n",
      "variance = 9 \n",
      "error compare with theory: -64.0 %\n",
      "\n",
      "standard deviation = 3.0 \n",
      "error compare with theory: -40.0 %\n",
      "\n",
      "Elapsed time = 0.18289909028680995\n",
      "------------------------------------\n"
     ]
    },
    {
     "data": {
      "text/plain": [
       "<matplotlib.legend.Legend at 0x1dd2a58dcf8>"
      ]
     },
     "execution_count": 81,
     "metadata": {},
     "output_type": "execute_result"
    },
    {
     "data": {
      "image/png": "[encoded data removed]",
      "text/plain": [
       "<matplotlib.figure.Figure at 0x1dd2a3674e0>"
      ]
     },
     "metadata": {},
     "output_type": "display_data"
    }
   ],
   "source": [
    "print('Ten dice, each with twenty sides.')\n",
    "s=2\n",
    "num1=2\n",
    "num2=5\n",
    "num3=10\n",
    "num4=20\n",
    "num5=40\n",
    "\n",
    "t=10000\n",
    "\n",
    "result1=NDiceS(t,s,num1)\n",
    "result2=NDiceS(t,s,num2)\n",
    "result3=NDiceS(t,s,num3)\n",
    "result4=NDiceS(t,s,num4)\n",
    "result5=NDiceS(t,s,num5)\n",
    "\n",
    "print(\"------------------------------------\")\n",
    "X1,Y1 = zip(*result1.items())\n",
    "Y1   = [y1/t for y1 in Y1]\n",
    "plt.scatter(X1,Y1,label=\"numbers of dice = {:d}\".format(num1))\n",
    "\n",
    "X2,Y2 = zip(*result2.items())\n",
    "Y2   = [y2/t for y2 in Y2]\n",
    "plt.scatter(X2,Y2,label=\"numbers of dice = {:d}\".format(num2))\n",
    "\n",
    "X3,Y3 = zip(*result3.items())\n",
    "Y3   = [y3/t for y3 in Y3]\n",
    "plt.scatter(X3,Y3,label=\"numbers of dice = {:d}\".format(num3))\n",
    "\n",
    "X4,Y4 = zip(*result4.items())\n",
    "Y4   = [y4/t for y4 in Y4]\n",
    "plt.scatter(X4,Y4,label=\"numbers of dice = {:d}\".format(num4))\n",
    "\n",
    "X5,Y5 = zip(*result5.items())\n",
    "Y5   = [y5/t for y5 in Y5]\n",
    "plt.scatter(X5,Y5,label=\"numbers of dice = {:d}\".format(num5))\n",
    "\n",
    "plt.xlabel(\"sum of dice\")\n",
    "plt.ylabel(\"probability\")\n",
    "plt.legend(loc=1)"
   ]
  },
  {
   "cell_type": "markdown",
   "metadata": {},
   "source": [
    "The width of the distribution increase as expect"
   ]
  },
  {
   "cell_type": "markdown",
   "metadata": {},
   "source": [
    "# Problem 2: Computer simulations of mismatched dice\n",
    "\n",
    "1.Write a computer program to compute the probability distribution for the sum of two dice when each die has an arbitrary number of sides. Run your program for dice of four and six sides.\n",
    "\n"
   ]
  },
  {
   "cell_type": "code",
   "execution_count": 85,
   "metadata": {},
   "outputs": [
    {
     "name": "stdout",
     "output_type": "stream",
     "text": [
      "Elapsed time = 1.3555905076791532\n",
      "mean = 6.00438\n",
      "variance = 4.166382479424794\n",
      "standard deviation = 2.041171839758915\n",
      "------------------------------------\n"
     ]
    },
    {
     "data": {
      "text/plain": [
       "<matplotlib.legend.Legend at 0x1dd2a76b9b0>"
      ]
     },
     "execution_count": 85,
     "metadata": {},
     "output_type": "execute_result"
    },
    {
     "data": {
      "image/png": "[encoded data removed]",
      "text/plain": [
       "<matplotlib.figure.Figure at 0x1dd2a771c18>"
      ]
     },
     "metadata": {},
     "output_type": "display_data"
    }
   ],
   "source": [
    "def twomisdice(s1,s2,t):\n",
    "    tic=time.clock()\n",
    "   \n",
    "   # stimulation\n",
    "       \n",
    "    datarecord=[]\n",
    "\n",
    "    j = 0\n",
    "    r = []\n",
    "    while j < t :\n",
    "        \n",
    "        r=np.random.randint(1,s1+1)+np.random.randint(1,s2+1);\n",
    "        \n",
    "        datarecord.append(r)\n",
    "        j=j+1\n",
    "        \n",
    "    #stumulation result\n",
    "    mean_st=st.mean(datarecord)\n",
    "    variance_st=st.variance(datarecord)\n",
    "    stdev_st=st.stdev(datarecord)\n",
    "\n",
    "       \n",
    "    toc=time.clock()\n",
    "\n",
    "    return [Counter(datarecord), mean_st,variance_st,stdev_st,toc-tic]\n",
    "\n",
    "\n",
    "s1=4\n",
    "s2=6\n",
    "t=100000\n",
    "\n",
    "[result, mean_st,variance_st,stdev_st,Elapsed_time] = twomisdice(s1,s2,t)\n",
    "\n",
    "print(\"Elapsed time =\",Elapsed_time)\n",
    "print(\"mean =\",mean_st)\n",
    "print(\"variance =\",variance_st)\n",
    "print(\"standard deviation =\",stdev_st)\n",
    "\n",
    "print(\"------------------------------------\")\n",
    "X1,Y1 = zip(*result.items())\n",
    "Y1   = [y1 for y1 in Y1]\n",
    "plt.scatter(X1,Y1,label=\"trials = {:d}\".format(t))\n",
    "\n",
    "plt.xlabel(\"sum of dice\")\n",
    "plt.ylabel(\"count\")\n",
    "plt.legend(loc=1)"
   ]
  },
  {
   "cell_type": "markdown",
   "metadata": {},
   "source": [
    "2.Modify the computer program you wrote for the previous problem to compute the probability distribution for the sum of three dice when each die has an arbitrary number of sides. Run your program once for all dice having six sides, and once for any combination you think interesting."
   ]
  },
  {
   "cell_type": "code",
   "execution_count": 87,
   "metadata": {},
   "outputs": [
    {
     "name": "stdout",
     "output_type": "stream",
     "text": [
      "Elapsed time = 1.575723442623712\n",
      "mean = 12.49473\n",
      "variance = 16.055852785627856\n",
      "standard deviation = 4.006975515975591\n",
      "------------------------------------\n"
     ]
    },
    {
     "data": {
      "text/plain": [
       "<matplotlib.legend.Legend at 0x1dd2b7d1e80>"
      ]
     },
     "execution_count": 87,
     "metadata": {},
     "output_type": "execute_result"
    },
    {
     "data": {
      "image/png": "[encoded data removed]",
      "text/plain": [
       "<matplotlib.figure.Figure at 0x1dd2b7d18d0>"
      ]
     },
     "metadata": {},
     "output_type": "display_data"
    }
   ],
   "source": [
    "def threemisdice(s1,s2,s3,t):\n",
    "    tic=time.clock()\n",
    "   \n",
    "   # stimulation\n",
    "       \n",
    "    datarecord=[]\n",
    "\n",
    "    j = 0\n",
    "    r = []\n",
    "    while j < t :\n",
    "        \n",
    "        r=np.random.randint(1,s1+1)+np.random.randint(1,s2+1)+np.random.randint(1,s3+1);\n",
    "        \n",
    "        datarecord.append(r)\n",
    "        j=j+1\n",
    "        \n",
    "    #stumulation result\n",
    "    mean_st=st.mean(datarecord)\n",
    "    variance_st=st.variance(datarecord)\n",
    "    stdev_st=st.stdev(datarecord)\n",
    "\n",
    "       \n",
    "    toc=time.clock()\n",
    "\n",
    "    return [Counter(datarecord), mean_st,variance_st,stdev_st,toc-tic]\n",
    "\n",
    "\n",
    "s1=4\n",
    "s2=6\n",
    "s3=12\n",
    "t=100000\n",
    "\n",
    "[result, mean_st,variance_st,stdev_st,Elapsed_time] = threemisdice(s1,s2,s3,t)\n",
    "\n",
    "print(\"Elapsed time =\",Elapsed_time)\n",
    "print(\"mean =\",mean_st)\n",
    "print(\"variance =\",variance_st)\n",
    "print(\"standard deviation =\",stdev_st)\n",
    "\n",
    "print(\"------------------------------------\")\n",
    "X1,Y1 = zip(*result.items())\n",
    "Y1   = [y1 for y1 in Y1]\n",
    "plt.scatter(X1,Y1,label=\"trials = {:d}\".format(t))\n",
    "\n",
    "plt.xlabel(\"sum of dice\")\n",
    "plt.ylabel(\"count\")\n",
    "plt.legend(loc=1)"
   ]
  },
  {
   "cell_type": "code",
   "execution_count": null,
   "metadata": {},
   "outputs": [],
   "source": []
  }
 ],
 "metadata": {
  "kernelspec": {
   "display_name": "Python 3",
   "language": "python",
   "name": "python3"
  },
  "language_info": {
   "codemirror_mode": {
    "name": "ipython",
    "version": 3
   },
   "file_extension": ".py",
   "mimetype": "text/x-python",
   "name": "python",
   "nbconvert_exporter": "python",
   "pygments_lexer": "ipython3",
   "version": "3.6.4"
  }
 },
 "nbformat": 4,
 "nbformat_minor": 2
}
